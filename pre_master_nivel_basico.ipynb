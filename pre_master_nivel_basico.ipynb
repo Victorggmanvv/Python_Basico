{
  "nbformat": 4,
  "nbformat_minor": 0,
  "metadata": {
    "colab": {
      "provenance": [],
      "toc_visible": true,
      "authorship_tag": "ABX9TyNVlNwf0FIDiubMYT3wJ7Mv",
      "include_colab_link": true
    },
    "kernelspec": {
      "name": "python3",
      "display_name": "Python 3"
    },
    "language_info": {
      "name": "python"
    }
  },
  "cells": [
    {
      "cell_type": "markdown",
      "metadata": {
        "id": "view-in-github",
        "colab_type": "text"
      },
      "source": [
        "<a href=\"https://colab.research.google.com/github/Victorggmanvv/Python_Basico/blob/main/pre_master_nivel_basico.ipynb\" target=\"_parent\"><img src=\"https://colab.research.google.com/assets/colab-badge.svg\" alt=\"Open In Colab\"/></a>"
      ]
    },
    {
      "cell_type": "code",
      "execution_count": null,
      "metadata": {
        "id": "_TfUiu3p4Ie1"
      },
      "outputs": [],
      "source": []
    },
    {
      "cell_type": "markdown",
      "source": [
        "# 00_helloworld.py\n",
        "\n",
        "## Hola Mundo\n",
        "\n",
        "### Nuestro hola mundo en python\n",
        "\n"
      ],
      "metadata": {
        "id": "hr_8fmKs4Wex"
      }
    },
    {
      "cell_type": "code",
      "source": [
        "print(\"Hola Python\")"
      ],
      "metadata": {
        "colab": {
          "base_uri": "https://localhost:8080/"
        },
        "id": "XcVl-2DL5G9J",
        "outputId": "e9f94f30-3cd0-43dd-d0a2-f190a9897346"
      },
      "execution_count": null,
      "outputs": [
        {
          "output_type": "stream",
          "name": "stdout",
          "text": [
            "Hola Python\n"
          ]
        }
      ]
    },
    {
      "cell_type": "code",
      "source": [
        "\"\"\"\n",
        "Esto es\n",
        "un comentario\n",
        "en varias lineas\n",
        "\"\"\""
      ],
      "metadata": {
        "colab": {
          "base_uri": "https://localhost:8080/",
          "height": 35
        },
        "id": "IwCZfdcq5L55",
        "outputId": "cc95e224-421e-4459-ea29-d3db8ab51f47"
      },
      "execution_count": null,
      "outputs": [
        {
          "output_type": "execute_result",
          "data": {
            "text/plain": [
              "'\\nEsto es\\nun comentario\\nen varias lineas\\n'"
            ],
            "application/vnd.google.colaboratory.intrinsic+json": {
              "type": "string"
            }
          },
          "metadata": {},
          "execution_count": 2
        }
      ]
    },
    {
      "cell_type": "code",
      "source": [
        "print (\"hola Mundo\")\n",
        "\n",
        "print (type (\"prueba\"))\n",
        "print (type (5))\n",
        "print (type (1.2))\n",
        "print (type (False))\n",
        "print (type (5j))\n",
        "print (type (print (\"prueba\")))"
      ],
      "metadata": {
        "colab": {
          "base_uri": "https://localhost:8080/"
        },
        "id": "RhtiooW_5VU6",
        "outputId": "f68123f6-a5c7-487f-96fd-27a03ce9fcfd"
      },
      "execution_count": null,
      "outputs": [
        {
          "output_type": "stream",
          "name": "stdout",
          "text": [
            "hola Mundo\n",
            "<class 'str'>\n",
            "<class 'int'>\n",
            "<class 'float'>\n",
            "<class 'bool'>\n",
            "<class 'complex'>\n",
            "prueba\n",
            "<class 'NoneType'>\n"
          ]
        }
      ]
    },
    {
      "cell_type": "markdown",
      "source": [
        "# 01_variables.py\n",
        "\n",
        "## Variables\n"
      ],
      "metadata": {
        "id": "4p_kSDPk85kB"
      }
    },
    {
      "cell_type": "code",
      "source": [
        "my_string_variable = \"Texto\"\n",
        "print (my_string_variable)\n",
        "\n",
        "my_int_variable = 4\n",
        "print(my_int_variable)\n",
        "\n",
        "my_bool_varible = False\n",
        "print (my_bool_varible)\n",
        "\n",
        "my_float_variable = 5.6\n",
        "print (my_float_variable)\n",
        "\n",
        "print (my_string_variable, my_bool_varible, my_float_variable, my_int_variable)\n",
        "\n",
        "print(\"Este es el valor de\", my_int_variable)\n",
        "\n",
        "age = 37\n",
        "name = \"Victor\"\n",
        "surname = \"Garcia\"\n",
        "print (\"Me llamo\", name, \",mi apellido es\", surname, \"y tengo\", age, \"años\")\n"
      ],
      "metadata": {
        "colab": {
          "base_uri": "https://localhost:8080/"
        },
        "id": "VNtY1Yai9OEa",
        "outputId": "9a575acc-ba89-4c0d-a317-6613fcbf1d48"
      },
      "execution_count": null,
      "outputs": [
        {
          "output_type": "stream",
          "name": "stdout",
          "text": [
            "Texto\n",
            "4\n",
            "False\n",
            "5.6\n",
            "Texto False 5.6 4\n",
            "Este es el valor de 4\n",
            "Me llamo Victor ,mi apellido es Garcia y tengo 37 años\n"
          ]
        }
      ]
    },
    {
      "cell_type": "code",
      "source": [
        "name, surname,age = \"Victor\", \"Garcia\", 37\n",
        "print (\"Me llamo\", name, \",\",\"mi apellido es\", surname, \"y tengo\", age, \"años\")\n"
      ],
      "metadata": {
        "colab": {
          "base_uri": "https://localhost:8080/"
        },
        "id": "5kgFjNJP_K39",
        "outputId": "ef61cacd-6653-47dd-b55e-cfbc255e912f"
      },
      "execution_count": null,
      "outputs": [
        {
          "output_type": "stream",
          "name": "stdout",
          "text": [
            "Me llamo Victor , mi apellido es Garcia y tengo 37 años\n"
          ]
        }
      ]
    },
    {
      "cell_type": "code",
      "source": [
        "my_int_variable = 5\n",
        "my_int2_variable = str (my_int_variable)\n",
        "print (my_int_variable, my_int2_variable)\n",
        "print (type(my_int2_variable))\n",
        "print (type (my_int_variable))"
      ],
      "metadata": {
        "colab": {
          "base_uri": "https://localhost:8080/"
        },
        "id": "iGYiQeRPCXsy",
        "outputId": "46252c03-f38f-49f4-c5b5-ccb415ef9fc0"
      },
      "execution_count": null,
      "outputs": [
        {
          "output_type": "stream",
          "name": "stdout",
          "text": [
            "5 5\n",
            "<class 'str'>\n",
            "<class 'int'>\n"
          ]
        }
      ]
    },
    {
      "cell_type": "code",
      "source": [
        "print(len(my_string_variable))"
      ],
      "metadata": {
        "colab": {
          "base_uri": "https://localhost:8080/"
        },
        "id": "10_kll25IFP4",
        "outputId": "38a24ca5-1e60-406c-86e3-93bc6ebd394d"
      },
      "execution_count": null,
      "outputs": [
        {
          "output_type": "stream",
          "name": "stdout",
          "text": [
            "5\n"
          ]
        }
      ]
    },
    {
      "cell_type": "code",
      "source": [
        "name = input(\"Cual es tu nombre? \")\n",
        "age = input(\"Cual es tu edad? \")\n",
        "\n",
        "print (name)\n",
        "print (age)"
      ],
      "metadata": {
        "colab": {
          "base_uri": "https://localhost:8080/"
        },
        "id": "BPK-rxLyJnlj",
        "outputId": "b6bce824-eb54-43b7-c24f-ce0e2c8d68b1"
      },
      "execution_count": null,
      "outputs": [
        {
          "output_type": "stream",
          "name": "stdout",
          "text": [
            "Cual es tu nombre? e\n",
            "Cual es tu edad? e\n",
            "e\n",
            "e\n"
          ]
        }
      ]
    },
    {
      "cell_type": "code",
      "source": [
        "# Forzamos el tipo\n",
        "address: str = \"Mi dirección\"\n",
        "address = 32\n",
        "print (address)\n",
        "print (type(address))"
      ],
      "metadata": {
        "colab": {
          "base_uri": "https://localhost:8080/"
        },
        "id": "J6tHVlr4Nu1J",
        "outputId": "729122ea-04cf-4aa1-febb-3c18cc5eed75"
      },
      "execution_count": null,
      "outputs": [
        {
          "output_type": "stream",
          "name": "stdout",
          "text": [
            "32\n",
            "<class 'int'>\n"
          ]
        }
      ]
    },
    {
      "cell_type": "markdown",
      "source": [
        "# 03_operadores.py\n"
      ],
      "metadata": {
        "id": "xVtMTc2NPBYH"
      }
    },
    {
      "cell_type": "code",
      "source": [
        "### Operadores Aritméticos ###\n",
        "print (3+4)\n",
        "print (7%4)\n",
        "print (10 //4)\n",
        "print(3**3)\n",
        "print (\"Hola\" + \" \" + \"Python\")\n",
        "print (\"Hola \" + str(5))\n",
        "print (\"Hola\" * 5)"
      ],
      "metadata": {
        "colab": {
          "base_uri": "https://localhost:8080/"
        },
        "id": "MQyQ50tBM9OX",
        "outputId": "37b47ef7-385a-4ca9-bbbb-c4a36515d10e"
      },
      "execution_count": null,
      "outputs": [
        {
          "output_type": "stream",
          "name": "stdout",
          "text": [
            "7\n",
            "3\n",
            "2\n",
            "27\n",
            "Hola Python\n",
            "Hola 5\n",
            "HolaHolaHolaHolaHola\n"
          ]
        }
      ]
    },
    {
      "cell_type": "code",
      "source": [
        "### Operadores Comparativos ###\n",
        "print (3<4)\n",
        "print (3>4)\n",
        "print (3>=4)\n",
        "print (3<=4)\n",
        "print (3==4)\n",
        "print (3!=4)"
      ],
      "metadata": {
        "colab": {
          "base_uri": "https://localhost:8080/"
        },
        "id": "Iko3SAnPYRNs",
        "outputId": "51f32e3a-18fc-4b7f-ebc4-e5c79e270e2d"
      },
      "execution_count": null,
      "outputs": [
        {
          "output_type": "stream",
          "name": "stdout",
          "text": [
            "True\n",
            "False\n",
            "False\n",
            "True\n",
            "False\n",
            "True\n"
          ]
        }
      ]
    },
    {
      "cell_type": "markdown",
      "source": [
        "#04_strings_py\n"
      ],
      "metadata": {
        "id": "L4xec7l-70SY"
      }
    },
    {
      "cell_type": "markdown",
      "source": [
        "# 05_lists_py"
      ],
      "metadata": {
        "id": "dhOhZ2JEo1t4"
      }
    },
    {
      "cell_type": "code",
      "source": [
        "my_list = list ()\n",
        "my_other_list = []\n",
        "\n",
        "print(len(my_list))\n",
        "\n",
        "my_list = [35, 24, 62, 52, 30, 30, 17]\n",
        "\n",
        "print(my_list)\n",
        "print(len(my_list))\n",
        "\n",
        "my_other_list = [35, 1.77, \"Brais\", \"Moure\"]\n",
        "\n",
        "print(type(my_other_list))\n",
        "\n",
        "print(my_other_list[-4])\n",
        "\n",
        "print(my_list.count(30)) # Cuenta los valores que son iguales. Existen dos 30 en my_list\n",
        "\n",
        "age, height, name, surname = my_other_list\n",
        "print (name)\n",
        "\n",
        "print(f\"Mi nombre es {name} {surname} tengo {age} y peso {height}\")\n",
        "\n",
        "name, height, age, surname = my_other_list [2], my_other_list [1], my_other_list [0], my_other_list [3]\n",
        "print (age)\n",
        "\n",
        "my_other_list.append(\"MoureDev\")\n",
        "print(my_other_list)\n",
        "\n",
        "my_other_list.insert(1, \"Rojo\")\n",
        "print(my_other_list)\n",
        "\n",
        "my_list.pop(2) #.pop elimina la posición de la lista que le indiquemos\n",
        "print(my_list)"
      ],
      "metadata": {
        "colab": {
          "base_uri": "https://localhost:8080/"
        },
        "id": "VRf3s1kvo4py",
        "outputId": "9767dea3-b02c-4ecc-ed63-3e16700f0ee7"
      },
      "execution_count": null,
      "outputs": [
        {
          "output_type": "stream",
          "name": "stdout",
          "text": [
            "0\n",
            "[35, 24, 62, 52, 30, 30, 17]\n",
            "7\n",
            "<class 'list'>\n",
            "35\n",
            "2\n",
            "Brais\n",
            "Mi nombre es Brais Moure tengo 35 y peso 1.77\n",
            "35\n",
            "[35, 1.77, 'Brais', 'Moure', 'MoureDev']\n",
            "[35, 'Rojo', 1.77, 'Brais', 'Moure', 'MoureDev']\n",
            "[35, 24, 52, 30, 30, 17]\n"
          ]
        }
      ]
    },
    {
      "cell_type": "markdown",
      "source": [
        "# 06_tuplas.py\n"
      ],
      "metadata": {
        "id": "DiKaiYxfWwAF"
      }
    },
    {
      "cell_type": "code",
      "source": [
        "my_tuple = tuple()\n",
        "my_other_tuple = ()\n",
        "\n",
        "my_tuple = (35, 1.77, \"Brais\", \"Moure\", \"Brais\")\n",
        "my_other_tuple = (35, 60, 30)"
      ],
      "metadata": {
        "id": "2Oi_iYw8WziA"
      },
      "execution_count": null,
      "outputs": []
    },
    {
      "cell_type": "markdown",
      "source": [
        "# 08_conditionals.py\n"
      ],
      "metadata": {
        "id": "iDI2HerdNXX_"
      }
    },
    {
      "cell_type": "code",
      "source": [
        "my_condition = False\n",
        "\n",
        "if my_condition:\n",
        "  print(\"se ejecuta la condición del if\")\n",
        "\n",
        "\n",
        "my_condition = 1\n",
        "\n",
        "if my_condition == 10:\n",
        "  print(\"se ejecuta la condición del segundo if\")\n",
        "\n",
        "if my_condition > 10 and my_condition < 20:\n",
        "  print(\"es mayor que 10 y menor de 20\")\n",
        "elif my_condition == 1:\n",
        "  print(\"es igual a 1\")\n",
        "elif my_condition > 0.5:\n",
        "  print(\"es mayor a 0.5\")\n",
        "else:\n",
        "  print(\"es menor que 10 o mayor o igual que 20\")\n",
        "\n",
        "print (\"la ejecución continua\")\n"
      ],
      "metadata": {
        "colab": {
          "base_uri": "https://localhost:8080/"
        },
        "id": "FvmyKAkYNhKf",
        "outputId": "3eda365b-556d-48df-a850-1303689e5865"
      },
      "execution_count": null,
      "outputs": [
        {
          "output_type": "stream",
          "name": "stdout",
          "text": [
            "es igual a 1\n",
            "la ejecución continua\n"
          ]
        }
      ]
    },
    {
      "cell_type": "markdown",
      "source": [
        "# 09_loops.py"
      ],
      "metadata": {
        "id": "3LRl-0AeBxPz"
      }
    },
    {
      "cell_type": "code",
      "source": [
        "contador = 0\n",
        "\n",
        "while contador <= 4:\n",
        "    print(\"Hola\", contador)\n",
        "    contador += 2\n",
        "\n",
        "frutas = [\"manzana\", \"pera\", \"uva\"]\n",
        "for fruta in frutas:\n",
        "    print(fruta)"
      ],
      "metadata": {
        "colab": {
          "base_uri": "https://localhost:8080/"
        },
        "id": "WEWI2jkdB2fN",
        "outputId": "3576983a-3553-4e3f-b9f0-64701760ccdb"
      },
      "execution_count": null,
      "outputs": [
        {
          "output_type": "stream",
          "name": "stdout",
          "text": [
            "Hola 0\n",
            "Hola 2\n",
            "Hola 4\n",
            "manzana\n",
            "pera\n",
            "uva\n"
          ]
        }
      ]
    },
    {
      "cell_type": "markdown",
      "source": [
        "# 11_classes.py"
      ],
      "metadata": {
        "id": "P0xww9sLL5HZ"
      }
    },
    {
      "cell_type": "code",
      "source": [
        "class MyEmptyPerson:\n",
        "  pass\n",
        "\n",
        "print(MyEmptyPerson)\n",
        "print(MyEmptyPerson())\n",
        "\n",
        "class Person:\n",
        "  def __init__(self, name, surname):\n",
        "    self.name = name\n",
        "    self.surname = surname\n",
        "\n",
        "my_person = Person(\"Brais\", \"Moure\")\n",
        "print (my_person.name)\n",
        "print (my_person.surname)\n",
        "\n",
        "\n",
        "class Person:\n",
        "  def __init__(self, name, surname):\n",
        "    self.full_name = f\"{name} {surname}\"\n",
        "\n",
        "my_person = Person(\"Brais\", \"Moure\")\n",
        "print (my_person.full_name)\n"
      ],
      "metadata": {
        "colab": {
          "base_uri": "https://localhost:8080/"
        },
        "id": "usclPzkSL87X",
        "outputId": "5e65404d-a47c-4cfb-9ad6-8fd377469b9e"
      },
      "execution_count": null,
      "outputs": [
        {
          "output_type": "stream",
          "name": "stdout",
          "text": [
            "<class '__main__.MyEmptyPerson'>\n",
            "<__main__.MyEmptyPerson object at 0x7bd35492f350>\n",
            "Brais\n",
            "Moure\n",
            "Brais Moure\n"
          ]
        }
      ]
    }
  ]
}